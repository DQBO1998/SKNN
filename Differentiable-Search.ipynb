{
 "cells": [
  {
   "cell_type": "code",
   "execution_count": 1564,
   "metadata": {
    "collapsed": true,
    "pycharm": {
     "name": "#%%\n"
    }
   },
   "outputs": [],
   "source": [
    "import torch as th\n",
    "import torch.nn as nn\n",
    "import torch.nn.functional as F\n",
    "import matplotlib.pyplot as plt\n",
    "import numpy as np\n",
    "\n",
    "from torch.optim import *\n",
    "from functorch import vmap, grad\n",
    "from IPython.display import display, clear_output\n",
    "from torch.utils.data import Dataset, DataLoader, random_split\n",
    "from torch.nn import Module\n",
    "from torch import  Tensor, tensor, zeros, softmax\n",
    "from typing import Callable\n",
    "from warnings import warn\n",
    "from numpy import prod\n",
    "\n",
    "%matplotlib inline"
   ]
  },
  {
   "cell_type": "markdown",
   "source": [
    "# The Model"
   ],
   "metadata": {
    "collapsed": false,
    "pycharm": {
     "name": "#%% md\n"
    }
   }
  },
  {
   "cell_type": "code",
   "execution_count": 1565,
   "outputs": [],
   "source": [
    "class Dense(nn.Module):\n",
    "    def __init__(self, in_size: int, hidden_size: int):\n",
    "        super().__init__()\n",
    "        self.linear = nn.Linear(in_size, hidden_size)\n",
    "\n",
    "    def forward(self, x: Tensor) -> Tensor:\n",
    "        h = self.linear(x)\n",
    "        return th.cat([x, h], dim=1)"
   ],
   "metadata": {
    "collapsed": false,
    "pycharm": {
     "name": "#%%\n"
    }
   }
  },
  {
   "cell_type": "code",
   "execution_count": 1566,
   "outputs": [],
   "source": [
    "def differentiable_search(weights: Tensor,\n",
    "                          prototypes: Tensor,\n",
    "                          sample: Tensor,\n",
    "                          temperature: Tensor | float = 1.,\n",
    "                          epochs: int = 10,\n",
    "                          step: float | Tensor = 0.01) -> tuple[Tensor, Tensor, Tensor]:\n",
    "    # Shorten the names...\n",
    "    w = weights\n",
    "    Z = prototypes\n",
    "    z = sample\n",
    "    # Some sanity checks.\n",
    "    assert w.shape[0] == Z.shape[0], f'w.shape[0] = {w.shape[0]} and Z.shape[0] = {Z.shape[0]} don\\'t match.'\n",
    "    assert len(w.shape) == 1, f'Weights should be a 1D tensor, instead got {w.shape}.'\n",
    "    assert Z[0].shape == z.shape, f'Z[0].shape = {Z[0].shape} and z.shape = {z.shape} don\\'t match.'\n",
    "    if isinstance(step, Tensor):\n",
    "        assert not step.shape, 'The step size must be a scalar tensor or a float.'\n",
    "    # Now let's compute.\n",
    "    norm = lambda w: softmax(w / temperature, dim=0)\n",
    "    loss_fn = lambda w: F.mse_loss((norm(w).view(-1, 1) * Z).sum(dim=0), z)\n",
    "    for epoch in range(epochs):\n",
    "        w = w - step * grad(loss_fn)(w)\n",
    "    return w, norm(w), loss_fn(w)"
   ],
   "metadata": {
    "collapsed": false,
    "pycharm": {
     "name": "#%%\n"
    }
   }
  },
  {
   "cell_type": "code",
   "execution_count": 1567,
   "outputs": [],
   "source": [
    "class DifferentiableDB(Module):\n",
    "    def __init__(self, prototypes: int, x_shape, y_shape, step: float, epochs: int):\n",
    "        super().__init__()\n",
    "        self.X = nn.Parameter(th.randn(prototypes, *x_shape))\n",
    "        self.Y = nn.Parameter(th.randn(prototypes, *y_shape))\n",
    "        self.step = nn.Parameter(tensor(step))\n",
    "        self.epochs = epochs\n",
    "\n",
    "    @property\n",
    "    def prototypes(self):\n",
    "        return self.X, self.Y\n",
    "\n",
    "    @prototypes.setter\n",
    "    def prototypes(self, pair: tuple[Tensor, Tensor]):\n",
    "        self.X = nn.Parameter(pair[0])\n",
    "        self.Y = nn.Parameter(pair[1])\n",
    "\n",
    "    def _forward(self, x):\n",
    "        w0 = zeros(self.X.shape[0])\n",
    "        _, w1, _ = differentiable_search(w0, self.X, x, temperature=1., epochs=self.epochs, step=self.step)\n",
    "        return (w1.view(-1, 1) * self.Y).sum(dim=0)\n",
    "\n",
    "    def forward(self, X):\n",
    "        return vmap(lambda x: self._forward(x))(X)"
   ],
   "metadata": {
    "collapsed": false,
    "pycharm": {
     "name": "#%%\n"
    }
   }
  },
  {
   "cell_type": "markdown",
   "source": [
    "# The Problem"
   ],
   "metadata": {
    "collapsed": false,
    "pycharm": {
     "name": "#%% md\n"
    }
   }
  },
  {
   "cell_type": "code",
   "execution_count": 1568,
   "outputs": [],
   "source": [
    "def generate_data(f: Callable[[Tensor], Tensor], N: int, x_min: int = -1, x_max: int = 1) -> tuple[Tensor, Tensor]:\n",
    "    X = th.rand(N, 1) * (x_max - x_min) + x_min\n",
    "    Y = f(X)\n",
    "    return X.detach(), Y.detach()"
   ],
   "metadata": {
    "collapsed": false,
    "pycharm": {
     "name": "#%%\n"
    }
   }
  },
  {
   "cell_type": "code",
   "execution_count": 1569,
   "outputs": [],
   "source": [
    "x_min = 0.; x_max = 2.; resolution = 1000\n",
    "fn = lambda x: 2 * x ** 3 - 5 * x ** 2 + 3 * x + 2 + th.sin(5 * x)\n",
    "#fn = lambda x: th.sign(th.sin(2 * th.pi * x))\n",
    "#fn = lambda x: x\n",
    "training_samples = 10\n",
    "X_training, Y_training = generate_data(fn, training_samples, x_min, x_max)"
   ],
   "metadata": {
    "collapsed": false,
    "pycharm": {
     "name": "#%%\n"
    }
   }
  },
  {
   "cell_type": "markdown",
   "source": [
    "# Model Fitting"
   ],
   "metadata": {
    "collapsed": false,
    "pycharm": {
     "name": "#%% md\n"
    }
   }
  },
  {
   "cell_type": "code",
   "execution_count": 1570,
   "outputs": [],
   "source": [
    "def fit(model,\n",
    "        X: Tensor,\n",
    "        Y: Tensor,\n",
    "        optim = Rprop,\n",
    "        criterion: Callable[[Tensor, Tensor], Tensor] = F.mse_loss,\n",
    "        epochs: int = 100,\n",
    "        verbose=False):\n",
    "    opt = optim(model.parameters())\n",
    "    loss_fn = lambda: criterion(model(X), Y)\n",
    "    model.train(mode=True)\n",
    "    for epoch in range(epochs):\n",
    "        opt.zero_grad()\n",
    "        loss_fn().backward()\n",
    "        opt.step()\n",
    "        if verbose:\n",
    "            with th.no_grad():\n",
    "                clear_output(wait=True)\n",
    "                print('Epoch %d | Loss: %.6f' % (epoch + 1, loss_fn()))\n",
    "    model.train(mode=False)"
   ],
   "metadata": {
    "collapsed": false,
    "pycharm": {
     "name": "#%%\n"
    }
   }
  },
  {
   "cell_type": "code",
   "execution_count": 1571,
   "outputs": [],
   "source": [
    "encoder = nn.Sequential(Dense(1, 9), nn.Mish(),\n",
    "                        Dense(10, 10), nn.Mish(),\n",
    "                        Dense(20, 20), nn.Mish(),\n",
    "                        Dense(40, 40), nn.Mish(),\n",
    "                        Dense(80, 80), nn.Mish())\n",
    "model = nn.Sequential(encoder,\n",
    "                      DifferentiableDB(training_samples * 2, (160,), Y_training.shape[1:], 0.1, 10))"
   ],
   "metadata": {
    "collapsed": false,
    "pycharm": {
     "name": "#%%\n"
    }
   }
  },
  {
   "cell_type": "code",
   "execution_count": 1572,
   "outputs": [
    {
     "name": "stdout",
     "output_type": "stream",
     "text": [
      "Epoch 200 | Loss: 0.000004\n"
     ]
    }
   ],
   "source": [
    "fit(model, X=X_training, Y=Y_training, epochs=200, verbose=True)"
   ],
   "metadata": {
    "collapsed": false,
    "pycharm": {
     "name": "#%%\n"
    }
   }
  },
  {
   "cell_type": "code",
   "execution_count": 1576,
   "outputs": [
    {
     "name": "stdout",
     "output_type": "stream",
     "text": [
      "Test Loss: 0.008992\n",
      "Training Loss: 0.000004\n"
     ]
    },
    {
     "data": {
      "text/plain": "<Figure size 640x480 with 1 Axes>",
      "image/png": "[encoded data removed]"
     },
     "metadata": {},
     "output_type": "display_data"
    }
   ],
   "source": [
    "# Sample ground truth.\n",
    "X_truth = th.linspace(x_min + .1, x_max, resolution).view(-1, 1)\n",
    "Y_truth = fn(X_truth)\n",
    "# Sample predictions.\n",
    "Y_pred = model(X_truth).detach()\n",
    "# Plot everything.\n",
    "plt.plot(X_truth.view(-1), Y_truth.view(-1), color='cyan', label='Truth')\n",
    "plt.plot(X_truth.view(-1), Y_pred.view(-1), color='mediumblue', label='Test')\n",
    "plt.scatter(X_training.view(-1), Y_training.view(-1), color='red', label='Samples')\n",
    "plt.xlabel('X')\n",
    "plt.ylabel('Y')\n",
    "plt.legend()\n",
    "print('Test Loss: %.6f' % F.mse_loss(Y_pred, Y_truth))\n",
    "print('Training Loss: %.6f' % F.mse_loss(model(X_training), Y_training))\n",
    "plt.show()"
   ],
   "metadata": {
    "collapsed": false,
    "pycharm": {
     "name": "#%%\n"
    }
   }
  }
 ],
 "metadata": {
  "kernelspec": {
   "display_name": "Python 3",
   "language": "python",
   "name": "python3"
  },
  "language_info": {
   "codemirror_mode": {
    "name": "ipython",
    "version": 2
   },
   "file_extension": ".py",
   "mimetype": "text/x-python",
   "name": "python",
   "nbconvert_exporter": "python",
   "pygments_lexer": "ipython2",
   "version": "2.7.6"
  }
 },
 "nbformat": 4,
 "nbformat_minor": 0
}