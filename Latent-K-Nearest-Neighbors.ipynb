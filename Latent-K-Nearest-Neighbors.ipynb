{
 "cells": [
  {
   "cell_type": "code",
   "execution_count": 66,
   "metadata": {
    "collapsed": true,
    "pycharm": {
     "name": "#%%\n"
    }
   },
   "outputs": [],
   "source": [
    "import torch as th\n",
    "import torch.nn as nn\n",
    "import torch.nn.functional as F\n",
    "import matplotlib.pyplot as plt\n",
    "import numpy as np\n",
    "\n",
    "from torch.optim import *\n",
    "from functorch import vmap\n",
    "from IPython.display import display, clear_output\n",
    "from torch.utils.data import Dataset, DataLoader, random_split\n",
    "from torch.nn import Module\n",
    "from torch import  Tensor\n",
    "from typing import Callable\n",
    "from warnings import warn\n",
    "\n",
    "%matplotlib inline"
   ]
  },
  {
   "cell_type": "markdown",
   "source": [
    "# The Model"
   ],
   "metadata": {
    "collapsed": false,
    "pycharm": {
     "name": "#%% md\n"
    }
   }
  },
  {
   "cell_type": "code",
   "execution_count": 67,
   "outputs": [],
   "source": [
    "class SoftNearestNeighbors(Module):\n",
    "    def __init__(self,\n",
    "                 encoder: Module,\n",
    "                 similarity: Callable[[Tensor, Tensor], Tensor],\n",
    "                 prototypes: tuple[Tensor, Tensor] | tuple[None, None] = (None, None)):\n",
    "        super().__init__()\n",
    "        self.sfn = similarity\n",
    "        self.enc = encoder\n",
    "        self.X, self.Y = prototypes\n",
    "\n",
    "    @property\n",
    "    def prototypes(self) -> tuple[Tensor, Tensor]:\n",
    "        return self.X, self.Y\n",
    "\n",
    "    @prototypes.setter\n",
    "    def prototypes(self, db: tuple[Tensor, Tensor]):\n",
    "        self.X, self.Y = db\n",
    "\n",
    "    def forward(self, X: Tensor) -> Tensor:\n",
    "        # Compute latent representation z of x.\n",
    "        Z = self.enc(X)\n",
    "        # Compute latent prototypes.\n",
    "        # Note: db stands for database.\n",
    "        Z_db = self.enc(self.X)\n",
    "        # Compute the similarities between Z and Z_db.\n",
    "        S = vmap(lambda z: vmap(lambda z_db: self.sfn(z, z_db))(Z_db))(Z)\n",
    "        # Compute weights.\n",
    "        W = F.softmax(S / self.X.shape[0], dim=1)\n",
    "        # Compute predictions.\n",
    "        Y = vmap(lambda w: (w.view(-1, 1) * self.Y).sum(dim=0))(W)\n",
    "        return Y\n",
    "\n",
    "    def fit(self,\n",
    "            X: Tensor,\n",
    "            Y: Tensor,\n",
    "            optim = Rprop,\n",
    "            criterion: Callable[[Tensor, Tensor], Tensor] = F.mse_loss,\n",
    "            epochs: int = 100,\n",
    "            verbose=False,\n",
    "            split: float = 0.5):\n",
    "        opt = optim(self.parameters())\n",
    "        self.train(mode=True)\n",
    "        for epoch in range(epochs):\n",
    "            # Split samples into prototypes and training data.\n",
    "            idx = th.randperm(X.shape[0])\n",
    "            top = int(idx.shape[0] * split)\n",
    "\n",
    "            if not top < X.shape[0]:\n",
    "                warn(f'No data left for evaluation.')\n",
    "            assert top > 0, 'No data left for support.'\n",
    "\n",
    "            self.X, self.Y = X[:top], Y[:top]\n",
    "\n",
    "            # Gradient descent step.\n",
    "            opt.zero_grad()\n",
    "            Y_pred = self(X)\n",
    "            Y_db = self(self.X)\n",
    "            loss = criterion(Y_pred, Y) + criterion(Y_db, self.Y)\n",
    "            loss.backward()\n",
    "            opt.step()\n",
    "            clear_output(wait=True)\n",
    "            if verbose:\n",
    "                print('Epoch [%d], Loss: %.6f' % (epoch + 1, loss))\n",
    "        soft_nn.train(mode=False)"
   ],
   "metadata": {
    "collapsed": false,
    "pycharm": {
     "name": "#%%\n"
    }
   }
  },
  {
   "cell_type": "code",
   "execution_count": 68,
   "outputs": [],
   "source": [
    "class Dense(nn.Module):\n",
    "    def __init__(self, in_size: int, hidden_size: int):\n",
    "        super().__init__()\n",
    "        self.linear = nn.Linear(in_size, hidden_size)\n",
    "\n",
    "    def forward(self, x: Tensor) -> Tensor:\n",
    "        h = self.linear(x)\n",
    "        return th.cat([x, h], dim=1)"
   ],
   "metadata": {
    "collapsed": false,
    "pycharm": {
     "name": "#%%\n"
    }
   }
  },
  {
   "cell_type": "code",
   "execution_count": 69,
   "outputs": [],
   "source": [
    "encoder = nn.Sequential(nn.BatchNorm1d(1), Dense(1, 10), nn.Mish(),\n",
    "                        nn.BatchNorm1d(11), Dense(11, 11), nn.Mish(),\n",
    "                        nn.BatchNorm1d(22), Dense(22, 22), nn.Mish(),\n",
    "                        nn.BatchNorm1d(44), Dense(44, 44), nn.Mish(),\n",
    "                        nn.BatchNorm1d(88), Dense(88, 88), nn.Mish(),\n",
    "                        nn.BatchNorm1d(176), nn.Linear(176, 176))"
   ],
   "metadata": {
    "collapsed": false,
    "pycharm": {
     "name": "#%%\n"
    }
   }
  },
  {
   "cell_type": "code",
   "execution_count": 70,
   "outputs": [],
   "source": [
    "def similarity(a: Tensor, b: Tensor) -> Tensor:\n",
    "    return th.dot(a, b)"
   ],
   "metadata": {
    "collapsed": false,
    "pycharm": {
     "name": "#%%\n"
    }
   }
  },
  {
   "cell_type": "code",
   "execution_count": 71,
   "outputs": [],
   "source": [
    "soft_nn = SoftNearestNeighbors(encoder, similarity)"
   ],
   "metadata": {
    "collapsed": false,
    "pycharm": {
     "name": "#%%\n"
    }
   }
  },
  {
   "cell_type": "markdown",
   "source": [
    "# The Problem"
   ],
   "metadata": {
    "collapsed": false,
    "pycharm": {
     "name": "#%% md\n"
    }
   }
  },
  {
   "cell_type": "code",
   "execution_count": 72,
   "outputs": [],
   "source": [
    "def generate_data(f: Callable[[Tensor], Tensor], N: int, x_min: int = -1, x_max: int = 1) -> tuple[Tensor, Tensor]:\n",
    "    X = th.rand(N, 1) * (x_max - x_min) + x_min\n",
    "    Y = f(X)\n",
    "    return X, Y"
   ],
   "metadata": {
    "collapsed": false,
    "pycharm": {
     "name": "#%%\n"
    }
   }
  },
  {
   "cell_type": "code",
   "execution_count": 73,
   "outputs": [],
   "source": [
    "class DatasetWrapper(Dataset):\n",
    "    def __init__(self, X, Y):\n",
    "        self.X = X\n",
    "        self.Y = Y\n",
    "\n",
    "    def __len__(self):\n",
    "        return len(self.X)\n",
    "\n",
    "    def __getitem__(self, idx):\n",
    "        x = self.X[idx]\n",
    "        y = self.Y[idx]\n",
    "        return x, y"
   ],
   "metadata": {
    "collapsed": false,
    "pycharm": {
     "name": "#%%\n"
    }
   }
  },
  {
   "cell_type": "code",
   "execution_count": 74,
   "outputs": [],
   "source": [
    "x_min = 0.; x_max = 2.; resolution = 1000\n",
    "X_domain = th.linspace(x_min, x_max, resolution).view(-1, 1)\n",
    "#fn = lambda x: 2 * (x - (x + 0.5).floor())\n",
    "fn = lambda x: 2 * x ** 3 - 5 * x ** 2 + 3 * x + 2 + th.sin(5 * x)"
   ],
   "metadata": {
    "collapsed": false,
    "pycharm": {
     "name": "#%%\n"
    }
   }
  },
  {
   "cell_type": "code",
   "execution_count": 75,
   "outputs": [],
   "source": [
    "X_training, Y_training = generate_data(fn, 100, x_min, x_max)"
   ],
   "metadata": {
    "collapsed": false,
    "pycharm": {
     "name": "#%%\n"
    }
   }
  },
  {
   "cell_type": "markdown",
   "source": [
    "# Model Fitting"
   ],
   "metadata": {
    "collapsed": false,
    "pycharm": {
     "name": "#%% md\n"
    }
   }
  },
  {
   "cell_type": "code",
   "execution_count": 76,
   "outputs": [
    {
     "name": "stdout",
     "output_type": "stream",
     "text": [
      "Epoch [1000], Loss: 0.000009\n"
     ]
    }
   ],
   "source": [
    "soft_nn.fit(X_training, Y_training, split=0.5, verbose=True, epochs=1000)"
   ],
   "metadata": {
    "collapsed": false,
    "pycharm": {
     "name": "#%%\n"
    }
   }
  },
  {
   "cell_type": "code",
   "execution_count": 77,
   "outputs": [
    {
     "name": "stdout",
     "output_type": "stream",
     "text": [
      "Loss: 0.038750\n"
     ]
    },
    {
     "data": {
      "text/plain": "<Figure size 640x480 with 1 Axes>",
      "image/png": "[encoded data removed]"
     },
     "metadata": {},
     "output_type": "display_data"
    }
   ],
   "source": [
    "# Assign prototypes\n",
    "X_data, Y_data = generate_data(fn, 100, x_min, x_max)\n",
    "soft_nn.prototypes = X_data, Y_data\n",
    "# Sample ground truth.\n",
    "X = th.linspace(x_min, x_max, resolution).view(-1, 1)\n",
    "Y = fn(X)\n",
    "# Sample predictions.\n",
    "Y_pred = soft_nn(X).detach()\n",
    "# Plot everything.\n",
    "plt.plot(X.view(-1), Y.view(-1), color='cyan', label='Ground truth')\n",
    "plt.plot(X.view(-1), Y_pred.view(-1), color='mediumblue', label='Prediction')\n",
    "plt.scatter(soft_nn.prototypes[0].view(-1), soft_nn.prototypes[1].view(-1), label='Samples', color='red', s=10)\n",
    "plt.xlabel('X')\n",
    "plt.ylabel('Y')\n",
    "plt.legend()\n",
    "print('Loss: %.6f' % F.mse_loss(Y_pred, Y))\n",
    "plt.show()"
   ],
   "metadata": {
    "collapsed": false,
    "pycharm": {
     "name": "#%%\n"
    }
   }
  }
 ],
 "metadata": {
  "kernelspec": {
   "display_name": "Python 3",
   "language": "python",
   "name": "python3"
  },
  "language_info": {
   "codemirror_mode": {
    "name": "ipython",
    "version": 2
   },
   "file_extension": ".py",
   "mimetype": "text/x-python",
   "name": "python",
   "nbconvert_exporter": "python",
   "pygments_lexer": "ipython2",
   "version": "2.7.6"
  }
 },
 "nbformat": 4,
 "nbformat_minor": 0
}