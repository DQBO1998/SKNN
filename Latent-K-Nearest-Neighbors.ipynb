{
 "cells": [
  {
   "cell_type": "code",
   "execution_count": 1,
   "metadata": {
    "collapsed": true,
    "pycharm": {
     "name": "#%%\n"
    }
   },
   "outputs": [],
   "source": [
    "import torch as th\n",
    "import torch.nn as nn\n",
    "import torch.nn.functional as F\n",
    "import matplotlib.pyplot as plt\n",
    "\n",
    "from torch.optim import *\n",
    "from functorch import vmap\n",
    "from IPython.display import display, clear_output\n",
    "from torch.utils.data import Dataset, DataLoader, random_split\n",
    "from torch.nn import Module\n",
    "from torch import  Tensor\n",
    "from typing import Callable\n",
    "\n",
    "%matplotlib inline"
   ]
  },
  {
   "cell_type": "markdown",
   "source": [
    "# The Model"
   ],
   "metadata": {
    "collapsed": false,
    "pycharm": {
     "name": "#%% md\n"
    }
   }
  },
  {
   "cell_type": "code",
   "execution_count": 2,
   "outputs": [],
   "source": [
    "class SoftNearestNeighbors(Module):\n",
    "    def __init__(self,\n",
    "                 encoder: Module,\n",
    "                 similarity: Callable[[Tensor, Tensor], Tensor],\n",
    "                 prototypes: tuple[Tensor, Tensor] | tuple[None, None] = (None, None)):\n",
    "        super().__init__()\n",
    "        self.sfn = similarity\n",
    "        self.enc = encoder\n",
    "        self.X, self.Y = prototypes\n",
    "\n",
    "    @property\n",
    "    def prototypes(self):\n",
    "        return self.X, self.Y\n",
    "\n",
    "    @prototypes.setter\n",
    "    def prototypes(self, db):\n",
    "        self.X, self.Y = db\n",
    "\n",
    "    def forward(self, X):\n",
    "        # Compute latent representation z of x.\n",
    "        Z = self.enc(X)\n",
    "        # Compute latent prototypes.\n",
    "        # Note: db stands for database.\n",
    "        Z_db = self.enc(self.X)\n",
    "        # Compute the similarities between Z and Z_db.\n",
    "        S = vmap(lambda z: vmap(lambda z_db: self.sfn(z, z_db))(Z_db))(Z)\n",
    "        # Compute weights.\n",
    "        W = F.softmax(S, dim=1)\n",
    "        # Compute predictions.\n",
    "        Y = vmap(lambda w: (w.view(-1, 1) * self.Y).sum(dim=0))(W)\n",
    "        return Y"
   ],
   "metadata": {
    "collapsed": false,
    "pycharm": {
     "name": "#%%\n"
    }
   }
  },
  {
   "cell_type": "code",
   "execution_count": 3,
   "outputs": [],
   "source": [
    "class Dense(nn.Module):\n",
    "    def __init__(self, in_size, hidden_size):\n",
    "        super().__init__()\n",
    "        self.linear = nn.Linear(in_size, hidden_size)\n",
    "\n",
    "    def forward(self, x):\n",
    "        h = self.linear(x)\n",
    "        return th.cat([x, h], dim=1)"
   ],
   "metadata": {
    "collapsed": false,
    "pycharm": {
     "name": "#%%\n"
    }
   }
  },
  {
   "cell_type": "code",
   "execution_count": 4,
   "outputs": [],
   "source": [
    "encoder = nn.Sequential(nn.BatchNorm1d(1), Dense(1, 10), nn.Mish(),\n",
    "                        nn.BatchNorm1d(11), Dense(11, 11), nn.Mish(),\n",
    "                        nn.BatchNorm1d(22), Dense(22, 22), nn.Mish(),\n",
    "                        nn.BatchNorm1d(44), Dense(44, 44), nn.Mish(),\n",
    "                        nn.BatchNorm1d(88), Dense(88, 88), nn.Mish(),\n",
    "                        nn.BatchNorm1d(176), nn.Linear(176, 1))"
   ],
   "metadata": {
    "collapsed": false,
    "pycharm": {
     "name": "#%%\n"
    }
   }
  },
  {
   "cell_type": "code",
   "execution_count": 5,
   "outputs": [],
   "source": [
    "def similarity(a, b):\n",
    "    return th.dot(a, b)"
   ],
   "metadata": {
    "collapsed": false,
    "pycharm": {
     "name": "#%%\n"
    }
   }
  },
  {
   "cell_type": "code",
   "execution_count": 6,
   "outputs": [],
   "source": [
    "soft_nn = SoftNearestNeighbors(encoder, similarity)"
   ],
   "metadata": {
    "collapsed": false,
    "pycharm": {
     "name": "#%%\n"
    }
   }
  }
 ],
 "metadata": {
  "kernelspec": {
   "display_name": "Python 3",
   "language": "python",
   "name": "python3"
  },
  "language_info": {
   "codemirror_mode": {
    "name": "ipython",
    "version": 2
   },
   "file_extension": ".py",
   "mimetype": "text/x-python",
   "name": "python",
   "nbconvert_exporter": "python",
   "pygments_lexer": "ipython2",
   "version": "2.7.6"
  }
 },
 "nbformat": 4,
 "nbformat_minor": 0
}